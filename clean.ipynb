{
 "cells": [
  {
   "cell_type": "code",
   "execution_count": 25,
   "metadata": {},
   "outputs": [],
   "source": [
    "import cv2\n",
    "import numpy as np\n",
    "import sys\n",
    "import os\n",
    "from tqdm import tqdm"
   ]
  },
  {
   "cell_type": "code",
   "execution_count": 26,
   "metadata": {},
   "outputs": [],
   "source": [
    "dir = \"Thumbnail\"\n",
    "# If thumbnail folder doesn't exist, create it\n",
    "if not os.path.exists(dir):\n",
    "    os.makedirs(dir)"
   ]
  },
  {
   "cell_type": "code",
   "execution_count": 158,
   "metadata": {},
   "outputs": [],
   "source": [
    "filename = \"View_From_A_Blue_Moon_Trailer-576p.mp4\"\n",
    "resolution = 240\n",
    "framerate = 15\n",
    "x = 5\n",
    "y = 5"
   ]
  },
  {
   "cell_type": "code",
   "execution_count": 159,
   "metadata": {},
   "outputs": [],
   "source": [
    "vidname = filename[0:filename.rindex('.')]\n",
    "vidcap = cv2.VideoCapture(filename)"
   ]
  },
  {
   "cell_type": "code",
   "execution_count": 160,
   "metadata": {},
   "outputs": [
    {
     "name": "stdout",
     "output_type": "stream",
     "text": [
      "Frame Count: 4389.0\n",
      "FPS: 23.976025067483214\n",
      "Duration: 183057 milisecond(s)\n"
     ]
    }
   ],
   "source": [
    "frame_count = vidcap.get(cv2.CAP_PROP_FRAME_COUNT)\n",
    "fps = vidcap.get(cv2.CAP_PROP_FPS)\n",
    "duration = int(frame_count/fps*1000)\n",
    "print(\"Frame Count:\", frame_count)\n",
    "print(\"FPS:\", fps)\n",
    "print(\"Duration:\", duration, \"milisecond(s)\")"
   ]
  },
  {
   "cell_type": "code",
   "execution_count": 161,
   "metadata": {},
   "outputs": [],
   "source": [
    "def captureFrame(vidcap, mil):\n",
    "  vidcap.set(cv2.CAP_PROP_POS_MSEC, mil)\n",
    "  _, image = vidcap.read()\n",
    "  return image\n",
    "\n",
    "def getHour(mil):\n",
    "    return int(mil/1000/60/60)\n",
    "\n",
    "def getMin(mil):\n",
    "    return int((mil/1000/60)%60)\n",
    "\n",
    "def getSec(mil):\n",
    "    return int((mil/1000)%60)\n",
    "\n",
    "def printTime(mil):\n",
    "    return \"{:02d}:{:02d}:{:02d}.{:03d}\".format(\n",
    "        getHour(mil),\n",
    "        getMin(mil),\n",
    "        getSec(mil),\n",
    "        mil%1000\n",
    "    )"
   ]
  },
  {
   "cell_type": "code",
   "execution_count": 162,
   "metadata": {},
   "outputs": [],
   "source": [
    "def output(src,dst,img,x,y,width,height,count,f):\n",
    "    f.write(\"\\n{} --> {}\\n\".format(\n",
    "        printTime(src), printTime(dst)\n",
    "    ))\n",
    "\n",
    "    f.write(\"{}#xywh={},{},{},{}\\n\".format(img,count%x*width,int((count%(x*y))/x)*height,width,height))"
   ]
  },
  {
   "cell_type": "code",
   "execution_count": 163,
   "metadata": {},
   "outputs": [],
   "source": [
    "def generate(vidcap):\n",
    "    scale = resolution / vidcap.get(cv2.CAP_PROP_FRAME_HEIGHT)\n",
    "    width = int(scale * vidcap.get(cv2.CAP_PROP_FRAME_WIDTH))\n",
    "    height = int(scale * vidcap.get(cv2.CAP_PROP_FRAME_HEIGHT))\n",
    "    dim = (width,height)\n",
    "\n",
    "    src = 0\n",
    "    dst = 0\n",
    "    delay = framerate * 1000\n",
    "    total = int(duration/delay)\n",
    "    if (duration % delay != 0):\n",
    "        total = total + 1\n",
    "    print(\"Total Images:\", total)\n",
    "\n",
    "    f = open(\"{}/{}.vtt\".format(dir,vidname), \"w\")\n",
    "    f.write(\"WEBVTT\\n\")\n",
    "\n",
    "    im_h = []\n",
    "    im_v = []\n",
    "    img_no = 1\n",
    "\n",
    "    for i in tqdm(range(total)):\n",
    "        dst = duration if src + delay > duration else src + delay\n",
    "        image = captureFrame(vidcap, src)\n",
    "        image = cv2.resize(image, dim, interpolation=cv2.INTER_AREA)\n",
    "        output(\n",
    "            src,dst,\"{}_{}.jpg\".format(vidname, img_no),x,y,width,height,i,f\n",
    "        )\n",
    "\n",
    "        src = src + delay\n",
    "        im_h.append(image)\n",
    "        if ((i+1) % x == 0):\n",
    "            image = cv2.hconcat(im_h)\n",
    "            im_v.append(image)\n",
    "            im_h.clear()\n",
    "\n",
    "        if ((i+1) / x == y):\n",
    "            cv2.imwrite(\"{}/{}_{}.jpg\".format(dir,vidname, img_no),cv2.vconcat(im_v))\n",
    "            im_v.clear()\n",
    "            img_no = img_no + 1\n",
    "\n",
    "    if (im_v or im_h):\n",
    "        if (im_h):\n",
    "            i = len(im_h)\n",
    "            while(i < x):\n",
    "                im_h.append(np.zeros([height, width, 3], np.uint8))\n",
    "                i=i+1\n",
    "            image = cv2.hconcat(im_h)\n",
    "            im_v.append(image)\n",
    "        \n",
    "        cv2.imwrite(\"{}/{}_{}.jpg\".format(dir,vidname, img_no),cv2.vconcat(im_v))\n",
    "        im_v.clear()\n",
    "    \n",
    "    f.close()\n"
   ]
  },
  {
   "cell_type": "code",
   "execution_count": 164,
   "metadata": {},
   "outputs": [
    {
     "name": "stdout",
     "output_type": "stream",
     "text": [
      "Total Images: 13\n"
     ]
    },
    {
     "name": "stderr",
     "output_type": "stream",
     "text": [
      "100%|██████████| 13/13 [00:00<00:00, 32.02it/s]\n"
     ]
    }
   ],
   "source": [
    "generate(vidcap)"
   ]
  },
  {
   "cell_type": "code",
   "execution_count": null,
   "metadata": {},
   "outputs": [],
   "source": []
  },
  {
   "cell_type": "code",
   "execution_count": null,
   "metadata": {},
   "outputs": [],
   "source": []
  }
 ],
 "metadata": {
  "kernelspec": {
   "display_name": "Python 3.10.5 64-bit",
   "language": "python",
   "name": "python3"
  },
  "language_info": {
   "codemirror_mode": {
    "name": "ipython",
    "version": 3
   },
   "file_extension": ".py",
   "mimetype": "text/x-python",
   "name": "python",
   "nbconvert_exporter": "python",
   "pygments_lexer": "ipython3",
   "version": "3.10.5"
  },
  "orig_nbformat": 4,
  "vscode": {
   "interpreter": {
    "hash": "d4079da2fe77583f954e1f5a4c3ffa365e73e8496f98af41d6bbfde520fd6cca"
   }
  }
 },
 "nbformat": 4,
 "nbformat_minor": 2
}
